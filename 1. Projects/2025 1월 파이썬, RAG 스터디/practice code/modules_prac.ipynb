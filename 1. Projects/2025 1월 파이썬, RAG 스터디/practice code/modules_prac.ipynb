{
 "cells": [
  {
   "cell_type": "code",
   "execution_count": 15,
   "metadata": {},
   "outputs": [],
   "source": [
    "import sys"
   ]
  },
  {
   "cell_type": "code",
   "execution_count": 10,
   "metadata": {},
   "outputs": [],
   "source": [
    "sys.path.append('C:/Users/user/Documents/Obsidian Vault/obsidian/1. Projects/2025 1월 파이썬, RAG 스터디/practice code/a/b/c/')"
   ]
  },
  {
   "cell_type": "code",
   "execution_count": 11,
   "metadata": {},
   "outputs": [
    {
     "data": {
      "text/plain": [
       "['c:\\\\Python312\\\\python312.zip',\n",
       " 'c:\\\\Python312\\\\DLLs',\n",
       " 'c:\\\\Python312\\\\Lib',\n",
       " 'c:\\\\Python312',\n",
       " '',\n",
       " 'C:\\\\Users\\\\user\\\\AppData\\\\Roaming\\\\Python\\\\Python312\\\\site-packages',\n",
       " 'C:\\\\Users\\\\user\\\\AppData\\\\Roaming\\\\Python\\\\Python312\\\\site-packages\\\\win32',\n",
       " 'C:\\\\Users\\\\user\\\\AppData\\\\Roaming\\\\Python\\\\Python312\\\\site-packages\\\\win32\\\\lib',\n",
       " 'C:\\\\Users\\\\user\\\\AppData\\\\Roaming\\\\Python\\\\Python312\\\\site-packages\\\\Pythonwin',\n",
       " 'c:\\\\Python312\\\\Lib\\\\site-packages',\n",
       " 'c:\\\\Python312\\\\Lib\\\\site-packages\\\\imagebot-1.2.1-py3.12.egg',\n",
       " 'C:/Users/user/Documents/Obsidian Vault/obsidian/1. Projects/2025 1월 파이썬, RAG 스터디/practice code/a/b/c/test.py',\n",
       " 'C:/Users/user/Documents/Obsidian Vault/obsidian/1. Projects/2025 1월 파이썬, RAG 스터디/practice code/a/b/c/']"
      ]
     },
     "execution_count": 11,
     "metadata": {},
     "output_type": "execute_result"
    }
   ],
   "source": [
    "sys.path"
   ]
  },
  {
   "cell_type": "code",
   "execution_count": 17,
   "metadata": {},
   "outputs": [
    {
     "name": "stdout",
     "output_type": "stream",
     "text": [
      "Hello, world!\n"
     ]
    },
    {
     "data": {
      "text/plain": [
       "0"
      ]
     },
     "execution_count": 17,
     "metadata": {},
     "output_type": "execute_result"
    }
   ],
   "source": [
    "import testhello\n",
    "testhello.hello()"
   ]
  },
  {
   "cell_type": "code",
   "execution_count": 18,
   "metadata": {},
   "outputs": [
    {
     "data": {
      "text/plain": [
       "True"
      ]
     },
     "execution_count": 18,
     "metadata": {},
     "output_type": "execute_result"
    }
   ],
   "source": [
    "'testhello' in sys.modules"
   ]
  },
  {
   "cell_type": "code",
   "execution_count": 22,
   "metadata": {},
   "outputs": [
    {
     "name": "stdout",
     "output_type": "stream",
     "text": [
      "<module 'testhello' from 'C:\\\\Users/user/Documents/Obsidian Vault/obsidian/1. Projects/2025 1월 파이썬, RAG 스터디/practice code/a/b/c\\\\testhello.py'>\n"
     ]
    }
   ],
   "source": [
    "import sys\n",
    "print(sys.modules.get('testhello'))  # 'os' 모듈 정보 출력\n"
   ]
  }
 ],
 "metadata": {
  "kernelspec": {
   "display_name": "Python 3",
   "language": "python",
   "name": "python3"
  },
  "language_info": {
   "codemirror_mode": {
    "name": "ipython",
    "version": 3
   },
   "file_extension": ".py",
   "mimetype": "text/x-python",
   "name": "python",
   "nbconvert_exporter": "python",
   "pygments_lexer": "ipython3",
   "version": "3.12.0"
  }
 },
 "nbformat": 4,
 "nbformat_minor": 2
}
