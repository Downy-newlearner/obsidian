{
 "cells": [
  {
   "cell_type": "code",
   "execution_count": 2,
   "metadata": {},
   "outputs": [],
   "source": [
    "import numpy as np\n",
    "import torch"
   ]
  },
  {
   "cell_type": "code",
   "execution_count": 4,
   "metadata": {},
   "outputs": [
    {
     "name": "stdout",
     "output_type": "stream",
     "text": [
      "error 0 tensor(0.2850)\n",
      "error 1 tensor(0.2795)\n",
      "error 2 tensor(0.2742)\n",
      "error 3 tensor(0.2692)\n",
      "error 4 tensor(0.2644)\n",
      "error 5 tensor(0.2598)\n",
      "error 6 tensor(0.2553)\n",
      "error 7 tensor(0.2511)\n",
      "error 8 tensor(0.2470)\n",
      "error 9 tensor(0.2430)\n",
      "error 10 tensor(0.2392)\n",
      "error 11 tensor(0.2355)\n",
      "error 12 tensor(0.2320)\n",
      "error 13 tensor(0.2286)\n",
      "error 14 tensor(0.2253)\n",
      "error 15 tensor(0.2221)\n",
      "error 16 tensor(0.2191)\n",
      "error 17 tensor(0.2161)\n",
      "error 18 tensor(0.2132)\n",
      "error 19 tensor(0.2105)\n",
      "error 20 tensor(0.2078)\n",
      "error 21 tensor(0.2052)\n",
      "error 22 tensor(0.2026)\n",
      "error 23 tensor(0.2002)\n",
      "error 24 tensor(0.1978)\n",
      "error 25 tensor(0.1955)\n",
      "error 26 tensor(0.1933)\n",
      "error 27 tensor(0.1911)\n",
      "error 28 tensor(0.1890)\n",
      "error 29 tensor(0.1869)\n",
      "error 30 tensor(0.1849)\n",
      "error 31 tensor(0.1830)\n",
      "error 32 tensor(0.1811)\n",
      "error 33 tensor(0.1792)\n",
      "error 34 tensor(0.1774)\n",
      "error 35 tensor(0.1757)\n",
      "error 36 tensor(0.1740)\n",
      "error 37 tensor(0.1723)\n",
      "error 38 tensor(0.1707)\n",
      "error 39 tensor(0.1691)\n",
      "error 40 tensor(0.1676)\n",
      "error 41 tensor(0.1661)\n",
      "error 42 tensor(0.1646)\n",
      "error 43 tensor(0.1631)\n",
      "error 44 tensor(0.1617)\n",
      "error 45 tensor(0.1604)\n",
      "error 46 tensor(0.1590)\n",
      "error 47 tensor(0.1577)\n",
      "error 48 tensor(0.1564)\n",
      "error 49 tensor(0.1551)\n"
     ]
    }
   ],
   "source": [
    "# simple delta rule\n",
    "x = torch.tensor([0.5, 0.8, 0.2])  # input\n",
    "w = torch.tensor([0.4, 0.7, 0.8])   # weight\n",
    "d = 1                                # target\n",
    "alpha = 0.5                         # learning rate\n",
    "\n",
    "# update w\n",
    "for i in range(50):\n",
    "    v = torch.sum(w * x)\n",
    "    y = torch.sigmoid(v)            # PyTorch 시그모이드 함수 사용\n",
    "    e = d - y\n",
    "    print(\"error\", i, e)\n",
    "    w = w + alpha * y * (1 - y) * e * x  # update w"
   ]
  }
 ],
 "metadata": {
  "kernelspec": {
   "display_name": "deepcl_env",
   "language": "python",
   "name": "python3"
  },
  "language_info": {
   "codemirror_mode": {
    "name": "ipython",
    "version": 3
   },
   "file_extension": ".py",
   "mimetype": "text/x-python",
   "name": "python",
   "nbconvert_exporter": "python",
   "pygments_lexer": "ipython3",
   "version": "3.10.0"
  }
 },
 "nbformat": 4,
 "nbformat_minor": 2
}
