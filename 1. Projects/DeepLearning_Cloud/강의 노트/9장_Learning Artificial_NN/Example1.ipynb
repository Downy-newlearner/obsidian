{
 "cells": [
  {
   "cell_type": "code",
   "execution_count": 11,
   "metadata": {},
   "outputs": [],
   "source": [
    "import pandas as pd\n",
    "import numpy as np"
   ]
  },
  {
   "cell_type": "code",
   "execution_count": 16,
   "metadata": {},
   "outputs": [],
   "source": [
    "def activation_func(v):\n",
    "    return v\n",
    "\n",
    "def forward(X, W):\n",
    "    return activation_func(np.dot(X, W))\n",
    "\n",
    "def train(X, W, d):\n",
    "    a = 0.5\n",
    "    y = forward(X, W)\n",
    "    e = d - y\n",
    "    W += a * e * X\n",
    "    print(f\"e = {round(e,2)}, W = {W}, delta_W = {a * e * X}\")\n",
    "    return W"
   ]
  },
  {
   "cell_type": "code",
   "execution_count": 17,
   "metadata": {},
   "outputs": [
    {
     "name": "stdout",
     "output_type": "stream",
     "text": [
      "Repeat 1:\n",
      "e = 0.08, W = [0.42  0.732 0.808], delta_W = [0.02  0.032 0.008]\n",
      "Repeat 2:\n",
      "e = 0.04, W = [0.4307  0.74912 0.81228], delta_W = [0.0107  0.01712 0.00428]\n",
      "Repeat 3:\n",
      "e = 0.02, W = [0.4364245 0.7582792 0.8145698], delta_W = [0.0057245 0.0091592 0.0022898]\n",
      "Repeat 4:\n",
      "e = 0.01, W = [0.43948711 0.76317937 0.81579484], delta_W = [0.00306261 0.00490017 0.00122504]\n",
      "Repeat 5:\n",
      "e = 0.01, W = [0.4411256  0.76580096 0.81645024], delta_W = [0.0016385  0.00262159 0.0006554 ]\n"
     ]
    }
   ],
   "source": [
    "X = np.array([0.5, 0.8, 0.2])\n",
    "W = np.array([0.4, 0.7, 0.8])\n",
    "d = 1\n",
    "\n",
    "print(f\"Repeat 1:\")\n",
    "W = train(X, W, d)\n",
    "\n",
    "print(f\"Repeat 2:\")\n",
    "W = train(X, W, d)\n",
    "\n",
    "print(f\"Repeat 3:\")\n",
    "W = train(X, W, d)\n",
    "\n",
    "print(f\"Repeat 4:\")\n",
    "W = train(X, W, d)\n",
    "\n",
    "print(f\"Repeat 5:\")\n",
    "W = train(X, W, d)"
   ]
  }
 ],
 "metadata": {
  "kernelspec": {
   "display_name": "deepcl_env",
   "language": "python",
   "name": "python3"
  },
  "language_info": {
   "codemirror_mode": {
    "name": "ipython",
    "version": 3
   },
   "file_extension": ".py",
   "mimetype": "text/x-python",
   "name": "python",
   "nbconvert_exporter": "python",
   "pygments_lexer": "ipython3",
   "version": "3.10.0"
  }
 },
 "nbformat": 4,
 "nbformat_minor": 2
}
