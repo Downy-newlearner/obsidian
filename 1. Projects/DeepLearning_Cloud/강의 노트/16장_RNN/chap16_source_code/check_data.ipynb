{
 "cells": [
  {
   "cell_type": "code",
   "execution_count": null,
   "metadata": {},
   "outputs": [],
   "source": [
    "import pandas as pd\n",
    "\n",
    "# CSV 파일 경로\n",
    "file_path = r\"C:\\Users\\user\\Downloads\\archive\\MSFT_2006-01-01_to_2018-01-01.csv\"\n",
    "\n",
    "# 데이터 로드\n",
    "df = pd.read_csv(file_path)\n",
    "\n",
    "# 데이터 정보 확인 코드\n",
    "print(\"### 데이터 샘플 (head) ###\")\n",
    "print(df.head())  # 데이터 샘플 확인\n",
    "\n",
    "print(\"\\n### 데이터 타입 (dtypes) ###\")\n",
    "print(df.dtypes)  # 데이터 타입 확인\n",
    "\n",
    "print(\"\\n### 데이터의 날짜 범위 (Date.min(), Date.max()) ###\")\n",
    "print(\"최소 날짜:\", pd.to_datetime(df['Date']).min())  # 최소 날짜\n",
    "print(\"최대 날짜:\", pd.to_datetime(df['Date']).max())  # 최대 날짜\n",
    "\n",
    "print(\"\\n### 결측치 확인 (isnull().sum()) ###\")\n",
    "print(df.isnull().sum())  # 결측치 확인\n",
    "\n",
    "print(\"\\n### 데이터 칼럼 이름 ###\")\n",
    "print(df.columns)  # 칼럼 이름 확인\n"
   ]
  }
 ],
 "metadata": {
  "kernelspec": {
   "display_name": "Python 3",
   "language": "python",
   "name": "python3"
  },
  "language_info": {
   "name": "python",
   "version": "3.10.0"
  }
 },
 "nbformat": 4,
 "nbformat_minor": 2
}
