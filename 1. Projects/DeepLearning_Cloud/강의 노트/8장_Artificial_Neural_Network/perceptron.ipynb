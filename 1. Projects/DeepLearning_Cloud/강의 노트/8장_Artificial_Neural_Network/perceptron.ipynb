{
 "cells": [
  {
   "cell_type": "code",
   "execution_count": 5,
   "metadata": {},
   "outputs": [],
   "source": [
    "import pandas as pd\n",
    "import numpy as np\n"
   ]
  },
  {
   "cell_type": "code",
   "execution_count": 6,
   "metadata": {},
   "outputs": [],
   "source": [
    "def cal_v_and_y(x1, x2, x3):\n",
    "    W = np.array([0.3, -0.1, 0.5])\n",
    "    b = -0.5\n",
    "\n",
    "    v = np.dot(W, np.array([x1, x2, x3])) + b\n",
    "    if v > 0:\n",
    "        y = 0\n",
    "    else:\n",
    "        y = 1\n",
    "    return v, y"
   ]
  },
  {
   "cell_type": "code",
   "execution_count": 7,
   "metadata": {},
   "outputs": [],
   "source": [
    "X = np.array([\n",
    "    [0.3, 0.1, 0.8],\n",
    "    [0.5, 0.6, 0.3],\n",
    "    [0.1, 0.2, 0.1],\n",
    "    [0.8, 0.7, 0.7],\n",
    "    [0.5, 0.5, 0.6]\n",
    "])"
   ]
  },
  {
   "cell_type": "code",
   "execution_count": 9,
   "metadata": {},
   "outputs": [
    {
     "name": "stdout",
     "output_type": "stream",
     "text": [
      "x1: 0.3, x2: 0.1, x3: 0.8, v: -0.02, y: 1\n",
      "x1: 0.5, x2: 0.6, x3: 0.3, v: -0.26, y: 1\n",
      "x1: 0.1, x2: 0.2, x3: 0.1, v: -0.44, y: 1\n",
      "x1: 0.8, x2: 0.7, x3: 0.7, v: 0.02, y: 0\n",
      "x1: 0.5, x2: 0.5, x3: 0.6, v: -0.1, y: 1\n"
     ]
    }
   ],
   "source": [
    "for i in range(5):\n",
    "    x1, x2, x3 = X[i]\n",
    "    v, y = cal_v_and_y(x1, x2, x3)\n",
    "    print(f'x1: {x1}, x2: {x2}, x3: {x3}, v: {round(v, 2)}, y: {y}')"
   ]
  }
 ],
 "metadata": {
  "kernelspec": {
   "display_name": "deepcl_env",
   "language": "python",
   "name": "python3"
  },
  "language_info": {
   "codemirror_mode": {
    "name": "ipython",
    "version": 3
   },
   "file_extension": ".py",
   "mimetype": "text/x-python",
   "name": "python",
   "nbconvert_exporter": "python",
   "pygments_lexer": "ipython3",
   "version": "3.10.0"
  }
 },
 "nbformat": 4,
 "nbformat_minor": 2
}
