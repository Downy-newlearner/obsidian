{
 "cells": [
  {
   "cell_type": "code",
   "execution_count": 15,
   "metadata": {},
   "outputs": [],
   "source": [
    "import keras\n",
    "import tensorflow as tf"
   ]
  },
  {
   "cell_type": "code",
   "execution_count": 16,
   "metadata": {},
   "outputs": [
    {
     "name": "stdout",
     "output_type": "stream",
     "text": [
      "tensorflow 2.17.0\n",
      "keras 3.6.0\n"
     ]
    }
   ],
   "source": [
    "print('tensorflow ' + tf.__version__)\n",
    "print('keras ' + keras.__version__)\n"
   ]
  },
  {
   "cell_type": "code",
   "execution_count": 17,
   "metadata": {},
   "outputs": [],
   "source": [
    "# load required modules\n",
    "from keras.models import Sequential\n",
    "from keras.layers import Dense, Input\n",
    "from keras.utils import to_categorical\n",
    "from sklearn.preprocessing import LabelEncoder\n",
    "from sklearn.model_selection import train_test_split\n",
    "\n",
    "import pandas as pd\n",
    "import matplotlib.pyplot as plt\n",
    "import numpy as np\n"
   ]
  },
  {
   "cell_type": "code",
   "execution_count": 18,
   "metadata": {},
   "outputs": [],
   "source": [
    "# load dataset\n",
    "dataframe = pd.read_csv(\"C:\\dankook\\DeepLearning_Cloud\\data\\iris.csv\")\n",
    "dataset = dataframe.values\n",
    "X = dataset[:,0:4].astype(float)  # input features\n",
    "Y = dataset[:,4]  # output labels\n",
    "\n",
    "# encode class values as integers\n",
    "encoder = LabelEncoder()\n",
    "encoder.fit(Y)\n",
    "encoded_Y = encoder.transform(Y)\n",
    "\n",
    "# one hot encoding\n",
    "dummy_y = to_categorical(encoded_Y)\n",
    "\n",
    "# Divide train, test\n",
    "train_X, test_X, train_y, test_y = train_test_split(X, dummy_y, test_size=0.4, random_state=321)\n"
   ]
  },
  {
   "cell_type": "code",
   "execution_count": 19,
   "metadata": {},
   "outputs": [
    {
     "data": {
      "text/html": [
       "<pre style=\"white-space:pre;overflow-x:auto;line-height:normal;font-family:Menlo,'DejaVu Sans Mono',consolas,'Courier New',monospace\"><span style=\"font-weight: bold\">Model: \"sequential_2\"</span>\n",
       "</pre>\n"
      ],
      "text/plain": [
       "\u001b[1mModel: \"sequential_2\"\u001b[0m\n"
      ]
     },
     "metadata": {},
     "output_type": "display_data"
    },
    {
     "data": {
      "text/html": [
       "<pre style=\"white-space:pre;overflow-x:auto;line-height:normal;font-family:Menlo,'DejaVu Sans Mono',consolas,'Courier New',monospace\">┏━━━━━━━━━━━━━━━━━━━━━━━━━━━━━━━━━┳━━━━━━━━━━━━━━━━━━━━━━━━┳━━━━━━━━━━━━━━━┓\n",
       "┃<span style=\"font-weight: bold\"> Layer (type)                    </span>┃<span style=\"font-weight: bold\"> Output Shape           </span>┃<span style=\"font-weight: bold\">       Param # </span>┃\n",
       "┡━━━━━━━━━━━━━━━━━━━━━━━━━━━━━━━━━╇━━━━━━━━━━━━━━━━━━━━━━━━╇━━━━━━━━━━━━━━━┩\n",
       "│ dense_6 (<span style=\"color: #0087ff; text-decoration-color: #0087ff\">Dense</span>)                 │ (<span style=\"color: #00d7ff; text-decoration-color: #00d7ff\">None</span>, <span style=\"color: #00af00; text-decoration-color: #00af00\">10</span>)             │            <span style=\"color: #00af00; text-decoration-color: #00af00\">50</span> │\n",
       "├─────────────────────────────────┼────────────────────────┼───────────────┤\n",
       "│ dense_7 (<span style=\"color: #0087ff; text-decoration-color: #0087ff\">Dense</span>)                 │ (<span style=\"color: #00d7ff; text-decoration-color: #00d7ff\">None</span>, <span style=\"color: #00af00; text-decoration-color: #00af00\">10</span>)             │           <span style=\"color: #00af00; text-decoration-color: #00af00\">110</span> │\n",
       "├─────────────────────────────────┼────────────────────────┼───────────────┤\n",
       "│ dense_8 (<span style=\"color: #0087ff; text-decoration-color: #0087ff\">Dense</span>)                 │ (<span style=\"color: #00d7ff; text-decoration-color: #00d7ff\">None</span>, <span style=\"color: #00af00; text-decoration-color: #00af00\">3</span>)              │            <span style=\"color: #00af00; text-decoration-color: #00af00\">33</span> │\n",
       "└─────────────────────────────────┴────────────────────────┴───────────────┘\n",
       "</pre>\n"
      ],
      "text/plain": [
       "┏━━━━━━━━━━━━━━━━━━━━━━━━━━━━━━━━━┳━━━━━━━━━━━━━━━━━━━━━━━━┳━━━━━━━━━━━━━━━┓\n",
       "┃\u001b[1m \u001b[0m\u001b[1mLayer (type)                   \u001b[0m\u001b[1m \u001b[0m┃\u001b[1m \u001b[0m\u001b[1mOutput Shape          \u001b[0m\u001b[1m \u001b[0m┃\u001b[1m \u001b[0m\u001b[1m      Param #\u001b[0m\u001b[1m \u001b[0m┃\n",
       "┡━━━━━━━━━━━━━━━━━━━━━━━━━━━━━━━━━╇━━━━━━━━━━━━━━━━━━━━━━━━╇━━━━━━━━━━━━━━━┩\n",
       "│ dense_6 (\u001b[38;5;33mDense\u001b[0m)                 │ (\u001b[38;5;45mNone\u001b[0m, \u001b[38;5;34m10\u001b[0m)             │            \u001b[38;5;34m50\u001b[0m │\n",
       "├─────────────────────────────────┼────────────────────────┼───────────────┤\n",
       "│ dense_7 (\u001b[38;5;33mDense\u001b[0m)                 │ (\u001b[38;5;45mNone\u001b[0m, \u001b[38;5;34m10\u001b[0m)             │           \u001b[38;5;34m110\u001b[0m │\n",
       "├─────────────────────────────────┼────────────────────────┼───────────────┤\n",
       "│ dense_8 (\u001b[38;5;33mDense\u001b[0m)                 │ (\u001b[38;5;45mNone\u001b[0m, \u001b[38;5;34m3\u001b[0m)              │            \u001b[38;5;34m33\u001b[0m │\n",
       "└─────────────────────────────────┴────────────────────────┴───────────────┘\n"
      ]
     },
     "metadata": {},
     "output_type": "display_data"
    },
    {
     "data": {
      "text/html": [
       "<pre style=\"white-space:pre;overflow-x:auto;line-height:normal;font-family:Menlo,'DejaVu Sans Mono',consolas,'Courier New',monospace\"><span style=\"font-weight: bold\"> Total params: </span><span style=\"color: #00af00; text-decoration-color: #00af00\">193</span> (772.00 B)\n",
       "</pre>\n"
      ],
      "text/plain": [
       "\u001b[1m Total params: \u001b[0m\u001b[38;5;34m193\u001b[0m (772.00 B)\n"
      ]
     },
     "metadata": {},
     "output_type": "display_data"
    },
    {
     "data": {
      "text/html": [
       "<pre style=\"white-space:pre;overflow-x:auto;line-height:normal;font-family:Menlo,'DejaVu Sans Mono',consolas,'Courier New',monospace\"><span style=\"font-weight: bold\"> Trainable params: </span><span style=\"color: #00af00; text-decoration-color: #00af00\">193</span> (772.00 B)\n",
       "</pre>\n"
      ],
      "text/plain": [
       "\u001b[1m Trainable params: \u001b[0m\u001b[38;5;34m193\u001b[0m (772.00 B)\n"
      ]
     },
     "metadata": {},
     "output_type": "display_data"
    },
    {
     "data": {
      "text/html": [
       "<pre style=\"white-space:pre;overflow-x:auto;line-height:normal;font-family:Menlo,'DejaVu Sans Mono',consolas,'Courier New',monospace\"><span style=\"font-weight: bold\"> Non-trainable params: </span><span style=\"color: #00af00; text-decoration-color: #00af00\">0</span> (0.00 B)\n",
       "</pre>\n"
      ],
      "text/plain": [
       "\u001b[1m Non-trainable params: \u001b[0m\u001b[38;5;34m0\u001b[0m (0.00 B)\n"
      ]
     },
     "metadata": {},
     "output_type": "display_data"
    }
   ],
   "source": [
    "# define model (DNN structure)\n",
    "epochs = 50\n",
    "batch_size = 10\n",
    "\n",
    "model = Sequential()\n",
    "model.add(Input(shape=(4,)))  # input layer (4 features)\n",
    "model.add(Dense(10, activation='relu'))  # hidden layer 1\n",
    "model.add(Dense(10, activation='relu'))  # hidden layer 2\n",
    "model.add(Dense(3, activation='softmax'))  # output layer (3 classes)\n",
    "\n",
    "model.summary()  # show model structure\n",
    "\n",
    "# Compile model\n",
    "model.compile(loss='categorical_crossentropy',\n",
    "              optimizer='adam',\n",
    "              metrics=['accuracy'])\n"
   ]
  },
  {
   "cell_type": "code",
   "execution_count": 20,
   "metadata": {},
   "outputs": [
    {
     "name": "stdout",
     "output_type": "stream",
     "text": [
      "dense_6\n",
      "[array([[ 2.8185403e-01, -2.7906328e-01,  1.1254406e-01,  7.5399876e-05,\n",
      "         2.7762794e-01, -3.5306484e-01, -5.9142423e-01,  3.2195467e-01,\n",
      "         1.3031346e-01,  3.7089610e-01],\n",
      "       [-1.4073473e-01,  1.6691160e-01,  3.4284991e-01,  2.8209394e-01,\n",
      "        -4.0463090e-02, -3.6887515e-01,  4.5307052e-01,  5.5775571e-01,\n",
      "        -3.5169134e-01, -3.1550038e-01],\n",
      "       [ 2.9347944e-01,  2.7592540e-01,  3.3104938e-01,  1.3160878e-01,\n",
      "         2.8087556e-01, -4.8477978e-01,  3.5773325e-01,  5.0616658e-01,\n",
      "         6.5256190e-01,  5.9669697e-01],\n",
      "       [ 3.3848214e-01, -6.0616136e-03, -6.2236416e-01,  6.4246953e-02,\n",
      "         7.2484910e-02,  4.5493901e-02, -1.6367701e-01,  3.0373669e-01,\n",
      "         6.1323810e-01, -5.4104376e-01]], dtype=float32), array([0., 0., 0., 0., 0., 0., 0., 0., 0., 0.], dtype=float32)]\n",
      "dense_7\n",
      "[array([[-0.34264696, -0.3608768 , -0.2741691 ,  0.4799515 , -0.46786743,\n",
      "         0.28413498, -0.11580086,  0.39963067,  0.3766234 ,  0.51881623],\n",
      "       [ 0.44860232,  0.11894667, -0.30672032,  0.33015025, -0.02551717,\n",
      "         0.2808746 ,  0.06400865,  0.37494433,  0.51834023,  0.27916193],\n",
      "       [ 0.01015878,  0.22050583, -0.309223  , -0.08586425,  0.36774778,\n",
      "         0.05660892, -0.18789414, -0.07977471,  0.20972872,  0.19394153],\n",
      "       [-0.38645583, -0.09960645,  0.03259695, -0.19620368,  0.23294193,\n",
      "        -0.50380886,  0.48062432, -0.14520869, -0.37596732, -0.22494736],\n",
      "       [ 0.2375443 , -0.31248444,  0.00517178,  0.41322023,  0.1128962 ,\n",
      "         0.04330009, -0.26042098, -0.16530424,  0.53163576, -0.33154756],\n",
      "       [ 0.1517595 ,  0.07040691,  0.4275422 , -0.29602835,  0.27634978,\n",
      "         0.34736532, -0.01181895,  0.18109274, -0.13372996,  0.23323733],\n",
      "       [-0.23569614, -0.4411135 , -0.5411342 ,  0.25058073, -0.34102976,\n",
      "        -0.36635166,  0.09835714, -0.4581533 ,  0.07666004, -0.32232624],\n",
      "       [-0.3591106 ,  0.19443357, -0.04345942,  0.2112993 ,  0.07439178,\n",
      "        -0.18708214,  0.03092384, -0.23614037,  0.0041126 ,  0.21712047],\n",
      "       [ 0.49896872,  0.42743802,  0.08316785, -0.408854  , -0.41396195,\n",
      "         0.24547827, -0.47482774, -0.3387932 , -0.04544449,  0.03921443],\n",
      "       [-0.4280745 ,  0.0875296 ,  0.42653513, -0.18344176, -0.15733999,\n",
      "         0.2947914 ,  0.13107508,  0.18635154, -0.35675794, -0.25873902]],\n",
      "      dtype=float32), array([0., 0., 0., 0., 0., 0., 0., 0., 0., 0.], dtype=float32)]\n",
      "dense_8\n",
      "[array([[-5.4503345e-01, -3.4846187e-02,  1.0914487e-01],\n",
      "       [-4.5560741e-01,  2.7731037e-01, -2.8906947e-01],\n",
      "       [-6.1739159e-01,  6.2750685e-01,  5.3059494e-01],\n",
      "       [ 4.9899459e-01, -3.2678434e-01, -3.3143541e-01],\n",
      "       [ 4.0402126e-01,  6.1462927e-01, -3.3055654e-01],\n",
      "       [-3.0316490e-01,  5.5317509e-01, -1.2853831e-01],\n",
      "       [ 1.9218177e-01,  8.4134221e-02,  1.4895231e-01],\n",
      "       [-2.4476370e-01, -5.2857161e-01,  4.2313015e-01],\n",
      "       [-3.7093964e-01, -2.7699581e-01,  4.9035668e-01],\n",
      "       [ 3.5536289e-04,  8.4321499e-02, -9.6022904e-02]], dtype=float32), array([0., 0., 0.], dtype=float32)]\n"
     ]
    }
   ],
   "source": [
    "# model weights\n",
    "for lay in model.layers:\n",
    "    print(lay.name)\n",
    "    print(lay.get_weights())\n"
   ]
  },
  {
   "cell_type": "code",
   "execution_count": 21,
   "metadata": {},
   "outputs": [
    {
     "name": "stdout",
     "output_type": "stream",
     "text": [
      "Epoch 1/50\n",
      "\u001b[1m9/9\u001b[0m \u001b[32m━━━━━━━━━━━━━━━━━━━━\u001b[0m\u001b[37m\u001b[0m \u001b[1m3s\u001b[0m 62ms/step - accuracy: 0.5679 - loss: 0.9821 - val_accuracy: 0.5667 - val_loss: 0.8897\n",
      "Epoch 2/50\n",
      "\u001b[1m9/9\u001b[0m \u001b[32m━━━━━━━━━━━━━━━━━━━━\u001b[0m\u001b[37m\u001b[0m \u001b[1m0s\u001b[0m 14ms/step - accuracy: 0.6376 - loss: 0.8306 - val_accuracy: 0.5000 - val_loss: 0.8545\n",
      "Epoch 3/50\n",
      "\u001b[1m9/9\u001b[0m \u001b[32m━━━━━━━━━━━━━━━━━━━━\u001b[0m\u001b[37m\u001b[0m \u001b[1m0s\u001b[0m 12ms/step - accuracy: 0.6893 - loss: 0.7974 - val_accuracy: 0.5833 - val_loss: 0.8148\n",
      "Epoch 4/50\n",
      "\u001b[1m9/9\u001b[0m \u001b[32m━━━━━━━━━━━━━━━━━━━━\u001b[0m\u001b[37m\u001b[0m \u001b[1m0s\u001b[0m 12ms/step - accuracy: 0.6469 - loss: 0.7553 - val_accuracy: 0.5833 - val_loss: 0.7743\n",
      "Epoch 5/50\n",
      "\u001b[1m9/9\u001b[0m \u001b[32m━━━━━━━━━━━━━━━━━━━━\u001b[0m\u001b[37m\u001b[0m \u001b[1m0s\u001b[0m 11ms/step - accuracy: 0.7069 - loss: 0.7010 - val_accuracy: 0.6000 - val_loss: 0.7567\n",
      "Epoch 6/50\n",
      "\u001b[1m9/9\u001b[0m \u001b[32m━━━━━━━━━━━━━━━━━━━━\u001b[0m\u001b[37m\u001b[0m \u001b[1m0s\u001b[0m 10ms/step - accuracy: 0.7642 - loss: 0.6551 - val_accuracy: 0.6000 - val_loss: 0.7405\n",
      "Epoch 7/50\n",
      "\u001b[1m9/9\u001b[0m \u001b[32m━━━━━━━━━━━━━━━━━━━━\u001b[0m\u001b[37m\u001b[0m \u001b[1m0s\u001b[0m 12ms/step - accuracy: 0.7025 - loss: 0.6547 - val_accuracy: 0.6000 - val_loss: 0.6953\n",
      "Epoch 8/50\n",
      "\u001b[1m9/9\u001b[0m \u001b[32m━━━━━━━━━━━━━━━━━━━━\u001b[0m\u001b[37m\u001b[0m \u001b[1m0s\u001b[0m 9ms/step - accuracy: 0.7118 - loss: 0.6151 - val_accuracy: 0.6333 - val_loss: 0.6239\n",
      "Epoch 9/50\n",
      "\u001b[1m9/9\u001b[0m \u001b[32m━━━━━━━━━━━━━━━━━━━━\u001b[0m\u001b[37m\u001b[0m \u001b[1m0s\u001b[0m 14ms/step - accuracy: 0.8279 - loss: 0.5729 - val_accuracy: 0.8000 - val_loss: 0.6012\n",
      "Epoch 10/50\n",
      "\u001b[1m9/9\u001b[0m \u001b[32m━━━━━━━━━━━━━━━━━━━━\u001b[0m\u001b[37m\u001b[0m \u001b[1m0s\u001b[0m 15ms/step - accuracy: 0.8250 - loss: 0.5695 - val_accuracy: 0.7667 - val_loss: 0.5858\n",
      "Epoch 11/50\n",
      "\u001b[1m9/9\u001b[0m \u001b[32m━━━━━━━━━━━━━━━━━━━━\u001b[0m\u001b[37m\u001b[0m \u001b[1m0s\u001b[0m 17ms/step - accuracy: 0.7556 - loss: 0.5502 - val_accuracy: 0.6000 - val_loss: 0.5944\n",
      "Epoch 12/50\n",
      "\u001b[1m9/9\u001b[0m \u001b[32m━━━━━━━━━━━━━━━━━━━━\u001b[0m\u001b[37m\u001b[0m \u001b[1m0s\u001b[0m 12ms/step - accuracy: 0.7297 - loss: 0.5327 - val_accuracy: 0.6000 - val_loss: 0.5847\n",
      "Epoch 13/50\n",
      "\u001b[1m9/9\u001b[0m \u001b[32m━━━━━━━━━━━━━━━━━━━━\u001b[0m\u001b[37m\u001b[0m \u001b[1m0s\u001b[0m 9ms/step - accuracy: 0.6562 - loss: 0.5788 - val_accuracy: 0.6500 - val_loss: 0.5546\n",
      "Epoch 14/50\n",
      "\u001b[1m9/9\u001b[0m \u001b[32m━━━━━━━━━━━━━━━━━━━━\u001b[0m\u001b[37m\u001b[0m \u001b[1m0s\u001b[0m 10ms/step - accuracy: 0.7735 - loss: 0.5110 - val_accuracy: 0.6167 - val_loss: 0.5489\n",
      "Epoch 15/50\n",
      "\u001b[1m9/9\u001b[0m \u001b[32m━━━━━━━━━━━━━━━━━━━━\u001b[0m\u001b[37m\u001b[0m \u001b[1m0s\u001b[0m 10ms/step - accuracy: 0.7361 - loss: 0.4978 - val_accuracy: 0.6167 - val_loss: 0.5402\n",
      "Epoch 16/50\n",
      "\u001b[1m9/9\u001b[0m \u001b[32m━━━━━━━━━━━━━━━━━━━━\u001b[0m\u001b[37m\u001b[0m \u001b[1m0s\u001b[0m 10ms/step - accuracy: 0.7341 - loss: 0.4829 - val_accuracy: 0.6000 - val_loss: 0.5386\n",
      "Epoch 17/50\n",
      "\u001b[1m9/9\u001b[0m \u001b[32m━━━━━━━━━━━━━━━━━━━━\u001b[0m\u001b[37m\u001b[0m \u001b[1m0s\u001b[0m 12ms/step - accuracy: 0.7487 - loss: 0.4655 - val_accuracy: 0.6500 - val_loss: 0.5188\n",
      "Epoch 18/50\n",
      "\u001b[1m9/9\u001b[0m \u001b[32m━━━━━━━━━━━━━━━━━━━━\u001b[0m\u001b[37m\u001b[0m \u001b[1m0s\u001b[0m 14ms/step - accuracy: 0.7862 - loss: 0.5030 - val_accuracy: 0.8167 - val_loss: 0.5017\n",
      "Epoch 19/50\n",
      "\u001b[1m9/9\u001b[0m \u001b[32m━━━━━━━━━━━━━━━━━━━━\u001b[0m\u001b[37m\u001b[0m \u001b[1m0s\u001b[0m 12ms/step - accuracy: 0.7807 - loss: 0.4605 - val_accuracy: 0.7000 - val_loss: 0.5002\n",
      "Epoch 20/50\n",
      "\u001b[1m9/9\u001b[0m \u001b[32m━━━━━━━━━━━━━━━━━━━━\u001b[0m\u001b[37m\u001b[0m \u001b[1m0s\u001b[0m 22ms/step - accuracy: 0.7964 - loss: 0.4477 - val_accuracy: 0.6667 - val_loss: 0.4944\n",
      "Epoch 21/50\n",
      "\u001b[1m9/9\u001b[0m \u001b[32m━━━━━━━━━━━━━━━━━━━━\u001b[0m\u001b[37m\u001b[0m \u001b[1m0s\u001b[0m 10ms/step - accuracy: 0.7281 - loss: 0.4628 - val_accuracy: 0.6500 - val_loss: 0.4903\n",
      "Epoch 22/50\n",
      "\u001b[1m9/9\u001b[0m \u001b[32m━━━━━━━━━━━━━━━━━━━━\u001b[0m\u001b[37m\u001b[0m \u001b[1m0s\u001b[0m 10ms/step - accuracy: 0.7365 - loss: 0.4768 - val_accuracy: 0.8167 - val_loss: 0.4730\n",
      "Epoch 23/50\n",
      "\u001b[1m9/9\u001b[0m \u001b[32m━━━━━━━━━━━━━━━━━━━━\u001b[0m\u001b[37m\u001b[0m \u001b[1m0s\u001b[0m 13ms/step - accuracy: 0.7911 - loss: 0.4550 - val_accuracy: 0.7167 - val_loss: 0.4741\n",
      "Epoch 24/50\n",
      "\u001b[1m9/9\u001b[0m \u001b[32m━━━━━━━━━━━━━━━━━━━━\u001b[0m\u001b[37m\u001b[0m \u001b[1m0s\u001b[0m 13ms/step - accuracy: 0.7937 - loss: 0.4320 - val_accuracy: 0.8167 - val_loss: 0.4582\n",
      "Epoch 25/50\n",
      "\u001b[1m9/9\u001b[0m \u001b[32m━━━━━━━━━━━━━━━━━━━━\u001b[0m\u001b[37m\u001b[0m \u001b[1m0s\u001b[0m 10ms/step - accuracy: 0.8761 - loss: 0.4345 - val_accuracy: 0.8667 - val_loss: 0.4502\n",
      "Epoch 26/50\n",
      "\u001b[1m9/9\u001b[0m \u001b[32m━━━━━━━━━━━━━━━━━━━━\u001b[0m\u001b[37m\u001b[0m \u001b[1m0s\u001b[0m 9ms/step - accuracy: 0.8773 - loss: 0.3797 - val_accuracy: 0.7333 - val_loss: 0.4564\n",
      "Epoch 27/50\n",
      "\u001b[1m9/9\u001b[0m \u001b[32m━━━━━━━━━━━━━━━━━━━━\u001b[0m\u001b[37m\u001b[0m \u001b[1m0s\u001b[0m 9ms/step - accuracy: 0.8404 - loss: 0.4251 - val_accuracy: 0.8667 - val_loss: 0.4377\n",
      "Epoch 28/50\n",
      "\u001b[1m9/9\u001b[0m \u001b[32m━━━━━━━━━━━━━━━━━━━━\u001b[0m\u001b[37m\u001b[0m \u001b[1m0s\u001b[0m 9ms/step - accuracy: 0.9157 - loss: 0.3847 - val_accuracy: 0.9000 - val_loss: 0.4291\n",
      "Epoch 29/50\n",
      "\u001b[1m9/9\u001b[0m \u001b[32m━━━━━━━━━━━━━━━━━━━━\u001b[0m\u001b[37m\u001b[0m \u001b[1m0s\u001b[0m 10ms/step - accuracy: 0.9254 - loss: 0.3805 - val_accuracy: 0.8667 - val_loss: 0.4268\n",
      "Epoch 30/50\n",
      "\u001b[1m9/9\u001b[0m \u001b[32m━━━━━━━━━━━━━━━━━━━━\u001b[0m\u001b[37m\u001b[0m \u001b[1m0s\u001b[0m 10ms/step - accuracy: 0.9069 - loss: 0.3727 - val_accuracy: 0.7667 - val_loss: 0.4303\n",
      "Epoch 31/50\n",
      "\u001b[1m9/9\u001b[0m \u001b[32m━━━━━━━━━━━━━━━━━━━━\u001b[0m\u001b[37m\u001b[0m \u001b[1m0s\u001b[0m 8ms/step - accuracy: 0.8966 - loss: 0.3813 - val_accuracy: 0.8667 - val_loss: 0.4138\n",
      "Epoch 32/50\n",
      "\u001b[1m9/9\u001b[0m \u001b[32m━━━━━━━━━━━━━━━━━━━━\u001b[0m\u001b[37m\u001b[0m \u001b[1m0s\u001b[0m 9ms/step - accuracy: 0.8829 - loss: 0.3780 - val_accuracy: 0.9167 - val_loss: 0.4037\n",
      "Epoch 33/50\n",
      "\u001b[1m9/9\u001b[0m \u001b[32m━━━━━━━━━━━━━━━━━━━━\u001b[0m\u001b[37m\u001b[0m \u001b[1m0s\u001b[0m 9ms/step - accuracy: 0.9102 - loss: 0.3501 - val_accuracy: 0.8167 - val_loss: 0.4101\n",
      "Epoch 34/50\n",
      "\u001b[1m9/9\u001b[0m \u001b[32m━━━━━━━━━━━━━━━━━━━━\u001b[0m\u001b[37m\u001b[0m \u001b[1m0s\u001b[0m 10ms/step - accuracy: 0.8852 - loss: 0.3621 - val_accuracy: 0.9333 - val_loss: 0.3916\n",
      "Epoch 35/50\n",
      "\u001b[1m9/9\u001b[0m \u001b[32m━━━━━━━━━━━━━━━━━━━━\u001b[0m\u001b[37m\u001b[0m \u001b[1m0s\u001b[0m 9ms/step - accuracy: 0.9597 - loss: 0.3565 - val_accuracy: 0.9667 - val_loss: 0.3841\n",
      "Epoch 36/50\n",
      "\u001b[1m9/9\u001b[0m \u001b[32m━━━━━━━━━━━━━━━━━━━━\u001b[0m\u001b[37m\u001b[0m \u001b[1m0s\u001b[0m 9ms/step - accuracy: 0.9437 - loss: 0.3752 - val_accuracy: 0.8667 - val_loss: 0.3896\n",
      "Epoch 37/50\n",
      "\u001b[1m9/9\u001b[0m \u001b[32m━━━━━━━━━━━━━━━━━━━━\u001b[0m\u001b[37m\u001b[0m \u001b[1m0s\u001b[0m 6ms/step - accuracy: 0.9059 - loss: 0.3407 - val_accuracy: 0.9167 - val_loss: 0.3807\n",
      "Epoch 38/50\n",
      "\u001b[1m9/9\u001b[0m \u001b[32m━━━━━━━━━━━━━━━━━━━━\u001b[0m\u001b[37m\u001b[0m \u001b[1m0s\u001b[0m 9ms/step - accuracy: 0.9121 - loss: 0.3570 - val_accuracy: 0.9500 - val_loss: 0.3697\n",
      "Epoch 39/50\n",
      "\u001b[1m9/9\u001b[0m \u001b[32m━━━━━━━━━━━━━━━━━━━━\u001b[0m\u001b[37m\u001b[0m \u001b[1m0s\u001b[0m 7ms/step - accuracy: 0.9192 - loss: 0.3862 - val_accuracy: 0.9667 - val_loss: 0.3646\n",
      "Epoch 40/50\n",
      "\u001b[1m9/9\u001b[0m \u001b[32m━━━━━━━━━━━━━━━━━━━━\u001b[0m\u001b[37m\u001b[0m \u001b[1m0s\u001b[0m 10ms/step - accuracy: 0.9392 - loss: 0.3225 - val_accuracy: 0.8667 - val_loss: 0.3747\n",
      "Epoch 41/50\n",
      "\u001b[1m9/9\u001b[0m \u001b[32m━━━━━━━━━━━━━━━━━━━━\u001b[0m\u001b[37m\u001b[0m \u001b[1m0s\u001b[0m 16ms/step - accuracy: 0.9242 - loss: 0.3220 - val_accuracy: 0.9667 - val_loss: 0.3512\n",
      "Epoch 42/50\n",
      "\u001b[1m9/9\u001b[0m \u001b[32m━━━━━━━━━━━━━━━━━━━━\u001b[0m\u001b[37m\u001b[0m \u001b[1m0s\u001b[0m 10ms/step - accuracy: 0.9413 - loss: 0.3729 - val_accuracy: 0.9667 - val_loss: 0.3503\n",
      "Epoch 43/50\n",
      "\u001b[1m9/9\u001b[0m \u001b[32m━━━━━━━━━━━━━━━━━━━━\u001b[0m\u001b[37m\u001b[0m \u001b[1m0s\u001b[0m 9ms/step - accuracy: 0.9406 - loss: 0.3126 - val_accuracy: 0.9167 - val_loss: 0.3492\n",
      "Epoch 44/50\n",
      "\u001b[1m9/9\u001b[0m \u001b[32m━━━━━━━━━━━━━━━━━━━━\u001b[0m\u001b[37m\u001b[0m \u001b[1m0s\u001b[0m 9ms/step - accuracy: 0.9442 - loss: 0.3060 - val_accuracy: 0.9667 - val_loss: 0.3398\n",
      "Epoch 45/50\n",
      "\u001b[1m9/9\u001b[0m \u001b[32m━━━━━━━━━━━━━━━━━━━━\u001b[0m\u001b[37m\u001b[0m \u001b[1m0s\u001b[0m 9ms/step - accuracy: 0.9487 - loss: 0.2934 - val_accuracy: 0.9167 - val_loss: 0.3407\n",
      "Epoch 46/50\n",
      "\u001b[1m9/9\u001b[0m \u001b[32m━━━━━━━━━━━━━━━━━━━━\u001b[0m\u001b[37m\u001b[0m \u001b[1m0s\u001b[0m 10ms/step - accuracy: 0.9343 - loss: 0.3696 - val_accuracy: 0.9833 - val_loss: 0.3225\n",
      "Epoch 47/50\n",
      "\u001b[1m9/9\u001b[0m \u001b[32m━━━━━━━━━━━━━━━━━━━━\u001b[0m\u001b[37m\u001b[0m \u001b[1m0s\u001b[0m 9ms/step - accuracy: 0.9483 - loss: 0.2928 - val_accuracy: 0.9667 - val_loss: 0.3284\n",
      "Epoch 48/50\n",
      "\u001b[1m9/9\u001b[0m \u001b[32m━━━━━━━━━━━━━━━━━━━━\u001b[0m\u001b[37m\u001b[0m \u001b[1m0s\u001b[0m 8ms/step - accuracy: 0.9245 - loss: 0.3019 - val_accuracy: 0.9167 - val_loss: 0.3283\n",
      "Epoch 49/50\n",
      "\u001b[1m9/9\u001b[0m \u001b[32m━━━━━━━━━━━━━━━━━━━━\u001b[0m\u001b[37m\u001b[0m \u001b[1m0s\u001b[0m 10ms/step - accuracy: 0.9333 - loss: 0.3076 - val_accuracy: 0.9833 - val_loss: 0.3066\n",
      "Epoch 50/50\n",
      "\u001b[1m9/9\u001b[0m \u001b[32m━━━━━━━━━━━━━━━━━━━━\u001b[0m\u001b[37m\u001b[0m \u001b[1m0s\u001b[0m 9ms/step - accuracy: 0.9743 - loss: 0.3239 - val_accuracy: 0.9667 - val_loss: 0.3134\n"
     ]
    }
   ],
   "source": [
    "# model fitting (learning)\n",
    "disp = model.fit(train_X, train_y,\n",
    "                 batch_size=batch_size,\n",
    "                 epochs=epochs,\n",
    "                 verbose=1,\n",
    "                 validation_data=(test_X, test_y))\n"
   ]
  },
  {
   "cell_type": "code",
   "execution_count": 22,
   "metadata": {},
   "outputs": [
    {
     "name": "stdout",
     "output_type": "stream",
     "text": [
      "\u001b[1m2/2\u001b[0m \u001b[32m━━━━━━━━━━━━━━━━━━━━\u001b[0m\u001b[37m\u001b[0m \u001b[1m0s\u001b[0m 37ms/step \n",
      "[[9.6162885e-01 3.6349803e-02 2.0213372e-03]\n",
      " [6.8092614e-04 1.9110993e-01 8.0820906e-01]\n",
      " [2.4261075e-04 2.4455017e-01 7.5520718e-01]\n",
      " [2.6744610e-02 6.4080042e-01 3.3245501e-01]\n",
      " [9.6054363e-01 3.7896264e-02 1.5601832e-03]\n",
      " [1.8390588e-02 6.5292335e-01 3.2868600e-01]\n",
      " [8.5885811e-04 1.8637903e-01 8.1276220e-01]\n",
      " [9.6648872e-01 3.1958576e-02 1.5527746e-03]\n",
      " [3.1079946e-02 5.8316910e-01 3.8575098e-01]\n",
      " [9.6453851e-01 3.3543445e-02 1.9179585e-03]\n",
      " [9.6544802e-01 3.2801639e-02 1.7502530e-03]\n",
      " [9.7427082e-01 2.4793008e-02 9.3620614e-04]\n",
      " [6.5904446e-02 6.3298476e-01 3.0111083e-01]\n",
      " [2.8286772e-02 6.2187558e-01 3.4983763e-01]\n",
      " [1.8863563e-03 2.3051594e-01 7.6759773e-01]\n",
      " [3.0228294e-02 5.3374970e-01 4.3602204e-01]\n",
      " [5.4956030e-04 1.6414912e-01 8.3530134e-01]\n",
      " [9.5747817e-01 4.0284533e-02 2.2373162e-03]\n",
      " [1.2659467e-02 5.4836953e-01 4.3897098e-01]\n",
      " [9.2197579e-01 7.3208421e-02 4.8157321e-03]\n",
      " [4.5068408e-04 2.5387707e-01 7.4567229e-01]\n",
      " [1.2411257e-02 5.0853527e-01 4.7905350e-01]\n",
      " [5.4418766e-03 5.4053366e-01 4.5402449e-01]\n",
      " [9.7290027e-01 2.5923636e-02 1.1759935e-03]\n",
      " [3.8761765e-02 6.3256711e-01 3.2867107e-01]\n",
      " [2.5516383e-02 5.7726902e-01 3.9721456e-01]\n",
      " [1.3594154e-02 5.0020528e-01 4.8620057e-01]\n",
      " [9.3928567e-05 1.9929479e-01 8.0061126e-01]\n",
      " [9.3923199e-01 5.7917006e-02 2.8509288e-03]\n",
      " [3.2692902e-02 4.9947152e-01 4.6783552e-01]\n",
      " [4.4219481e-04 1.7044355e-01 8.2911426e-01]\n",
      " [1.4506321e-01 5.9594673e-01 2.5899011e-01]\n",
      " [9.7184235e-01 2.6816368e-02 1.3411811e-03]\n",
      " [1.3730966e-02 5.7357538e-01 4.1269356e-01]\n",
      " [9.5141074e-04 2.8168127e-01 7.1736741e-01]\n",
      " [9.4310218e-01 5.2873839e-02 4.0239785e-03]\n",
      " [4.0071560e-03 2.6623714e-01 7.2975570e-01]\n",
      " [2.3235849e-04 2.7069691e-01 7.2907078e-01]\n",
      " [9.7003055e-01 2.8535629e-02 1.4338357e-03]\n",
      " [9.3630183e-01 5.8814101e-02 4.8841285e-03]\n",
      " [2.4067545e-02 6.3883650e-01 3.3709601e-01]\n",
      " [4.2559855e-02 6.2949336e-01 3.2794684e-01]\n",
      " [2.9682901e-04 1.0718236e-01 8.9252073e-01]\n",
      " [9.3891346e-01 5.7025585e-02 4.0609166e-03]\n",
      " [9.8319352e-01 1.6354311e-02 4.5212967e-04]\n",
      " [2.0342644e-02 5.5044377e-01 4.2921355e-01]\n",
      " [1.5342652e-03 1.9152041e-01 8.0694538e-01]\n",
      " [1.7351625e-02 4.7488642e-01 5.0776196e-01]\n",
      " [9.7381818e-01 2.5566900e-02 6.1493082e-04]\n",
      " [7.7287458e-02 6.8291163e-01 2.3980094e-01]\n",
      " [2.4595115e-02 6.2087792e-01 3.5452694e-01]\n",
      " [3.0209066e-02 5.8083904e-01 3.8895193e-01]\n",
      " [8.8442548e-04 3.7807465e-01 6.2104088e-01]\n",
      " [9.5288438e-01 4.4964824e-02 2.1507938e-03]\n",
      " [5.6240951e-05 2.0582914e-01 7.9411465e-01]\n",
      " [9.0744847e-04 2.3963931e-01 7.5945330e-01]\n",
      " [1.9326493e-02 5.3550869e-01 4.4516483e-01]\n",
      " [1.0632108e-03 2.5710970e-01 7.4182707e-01]\n",
      " [9.8543391e-03 3.7311596e-01 6.1702973e-01]\n",
      " [9.7484529e-01 2.4002166e-02 1.1526201e-03]]\n",
      "[0, 2, 2, 1, 0, 1, 2, 0, 1, 0, 0, 0, 1, 1, 2, 1, 2, 0, 1, 0, 2, 1, 1, 0, 1, 1, 1, 2, 0, 1, 2, 1, 0, 1, 2, 0, 2, 2, 0, 0, 1, 1, 2, 0, 0, 1, 2, 2, 0, 1, 1, 1, 2, 0, 2, 2, 1, 2, 2, 0]\n",
      "Test loss: 0.31342098116874695\n",
      "Test accuracy: 0.9666666388511658\n"
     ]
    }
   ],
   "source": [
    "# Test model\n",
    "pred = model.predict(test_X)\n",
    "print(pred)\n",
    "y_classes = [np.argmax(y, axis=None, out=None) for y in pred]\n",
    "print(y_classes)  # result of prediction\n",
    "\n",
    "# model performance\n",
    "score = model.evaluate(test_X, test_y, verbose=0)\n",
    "print('Test loss:', score[0])\n",
    "print('Test accuracy:', score[1])\n"
   ]
  },
  {
   "cell_type": "code",
   "execution_count": 23,
   "metadata": {},
   "outputs": [
    {
     "data": {
      "image/png": "[encoded data removed]",
      "text/plain": [
       "<Figure size 640x480 with 1 Axes>"
      ]
     },
     "metadata": {},
     "output_type": "display_data"
    }
   ],
   "source": [
    "# summarize history for accuracy\n",
    "plt.plot(disp.history['accuracy'])\n",
    "plt.plot(disp.history['val_accuracy'])\n",
    "plt.title('model accuracy')\n",
    "plt.ylabel('accuracy')\n",
    "plt.xlabel('epoch')\n",
    "plt.legend(['train', 'test'], loc='upper left')\n",
    "plt.show()\n"
   ]
  }
 ],
 "metadata": {
  "kernelspec": {
   "display_name": "deepcl_env",
   "language": "python",
   "name": "python3"
  },
  "language_info": {
   "codemirror_mode": {
    "name": "ipython",
    "version": 3
   },
   "file_extension": ".py",
   "mimetype": "text/x-python",
   "name": "python",
   "nbconvert_exporter": "python",
   "pygments_lexer": "ipython3",
   "version": "3.10.0"
  }
 },
 "nbformat": 4,
 "nbformat_minor": 2
}
